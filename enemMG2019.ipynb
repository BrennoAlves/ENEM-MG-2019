{
  "nbformat": 4,
  "nbformat_minor": 0,
  "metadata": {
    "colab": {
      "name": "enemMG2019.ipynb",
      "provenance": [],
      "collapsed_sections": []
    },
    "kernelspec": {
      "name": "python3",
      "display_name": "Python 3"
    }
  },
  "cells": [
    {
      "cell_type": "code",
      "metadata": {
        "id": "5fmSIP6zbd2k"
      },
      "source": [
        "import pandas as pd\n",
        "import seaborn as sns\n",
        "import matplotlib.pyplot as plt\n",
        "import re"
      ],
      "execution_count": null,
      "outputs": []
    },
    {
      "cell_type": "code",
      "metadata": {
        "colab": {
          "base_uri": "https://localhost:8080/",
          "height": 304
        },
        "id": "nESViPF5-S2I",
        "outputId": "474867f8-ce29-4bff-94d9-303cd460806b"
      },
      "source": [
        "dados = pd.read_csv('mg2019.csv', ';')\n",
        "dados.describe()"
      ],
      "execution_count": null,
      "outputs": [
        {
          "output_type": "execute_result",
          "data": {
            "text/html": [
              "<div>\n",
              "<style scoped>\n",
              "    .dataframe tbody tr th:only-of-type {\n",
              "        vertical-align: middle;\n",
              "    }\n",
              "\n",
              "    .dataframe tbody tr th {\n",
              "        vertical-align: top;\n",
              "    }\n",
              "\n",
              "    .dataframe thead th {\n",
              "        text-align: right;\n",
              "    }\n",
              "</style>\n",
              "<table border=\"1\" class=\"dataframe\">\n",
              "  <thead>\n",
              "    <tr style=\"text-align: right;\">\n",
              "      <th></th>\n",
              "      <th>idade</th>\n",
              "      <th>raca</th>\n",
              "      <th>estadoCivil</th>\n",
              "      <th>nacionalidade</th>\n",
              "      <th>anoConclusao</th>\n",
              "      <th>tipoEscola</th>\n",
              "      <th>treineiro</th>\n",
              "      <th>NU_NOTA_CN</th>\n",
              "      <th>NU_NOTA_CH</th>\n",
              "      <th>NU_NOTA_LC</th>\n",
              "      <th>NU_NOTA_MT</th>\n",
              "      <th>NU_NOTA_REDACAO</th>\n",
              "    </tr>\n",
              "  </thead>\n",
              "  <tbody>\n",
              "    <tr>\n",
              "      <th>count</th>\n",
              "      <td>538896.000000</td>\n",
              "      <td>538896.000000</td>\n",
              "      <td>538896.000000</td>\n",
              "      <td>538896.000000</td>\n",
              "      <td>538896.000000</td>\n",
              "      <td>538896.000000</td>\n",
              "      <td>538896.000000</td>\n",
              "      <td>393872.000000</td>\n",
              "      <td>414346.000000</td>\n",
              "      <td>414346.000000</td>\n",
              "      <td>393872.000000</td>\n",
              "      <td>414346.000000</td>\n",
              "    </tr>\n",
              "    <tr>\n",
              "      <th>mean</th>\n",
              "      <td>22.024361</td>\n",
              "      <td>2.071778</td>\n",
              "      <td>1.087078</td>\n",
              "      <td>1.031299</td>\n",
              "      <td>2.972176</td>\n",
              "      <td>1.296671</td>\n",
              "      <td>0.130023</td>\n",
              "      <td>492.333365</td>\n",
              "      <td>520.842738</td>\n",
              "      <td>531.215550</td>\n",
              "      <td>546.796208</td>\n",
              "      <td>596.990486</td>\n",
              "    </tr>\n",
              "    <tr>\n",
              "      <th>std</th>\n",
              "      <td>7.458167</td>\n",
              "      <td>1.006767</td>\n",
              "      <td>0.428067</td>\n",
              "      <td>0.210176</td>\n",
              "      <td>4.068752</td>\n",
              "      <td>0.520972</td>\n",
              "      <td>0.336329</td>\n",
              "      <td>78.027745</td>\n",
              "      <td>83.233732</td>\n",
              "      <td>61.324732</td>\n",
              "      <td>115.072018</td>\n",
              "      <td>193.028261</td>\n",
              "    </tr>\n",
              "    <tr>\n",
              "      <th>min</th>\n",
              "      <td>4.000000</td>\n",
              "      <td>0.000000</td>\n",
              "      <td>0.000000</td>\n",
              "      <td>0.000000</td>\n",
              "      <td>0.000000</td>\n",
              "      <td>1.000000</td>\n",
              "      <td>0.000000</td>\n",
              "      <td>0.000000</td>\n",
              "      <td>0.000000</td>\n",
              "      <td>0.000000</td>\n",
              "      <td>0.000000</td>\n",
              "      <td>0.000000</td>\n",
              "    </tr>\n",
              "    <tr>\n",
              "      <th>25%</th>\n",
              "      <td>18.000000</td>\n",
              "      <td>1.000000</td>\n",
              "      <td>1.000000</td>\n",
              "      <td>1.000000</td>\n",
              "      <td>0.000000</td>\n",
              "      <td>1.000000</td>\n",
              "      <td>0.000000</td>\n",
              "      <td>430.400000</td>\n",
              "      <td>462.400000</td>\n",
              "      <td>497.400000</td>\n",
              "      <td>451.800000</td>\n",
              "      <td>500.000000</td>\n",
              "    </tr>\n",
              "    <tr>\n",
              "      <th>50%</th>\n",
              "      <td>19.000000</td>\n",
              "      <td>2.000000</td>\n",
              "      <td>1.000000</td>\n",
              "      <td>1.000000</td>\n",
              "      <td>1.000000</td>\n",
              "      <td>1.000000</td>\n",
              "      <td>0.000000</td>\n",
              "      <td>489.300000</td>\n",
              "      <td>526.500000</td>\n",
              "      <td>536.500000</td>\n",
              "      <td>531.400000</td>\n",
              "      <td>600.000000</td>\n",
              "    </tr>\n",
              "    <tr>\n",
              "      <th>75%</th>\n",
              "      <td>23.000000</td>\n",
              "      <td>3.000000</td>\n",
              "      <td>1.000000</td>\n",
              "      <td>1.000000</td>\n",
              "      <td>4.000000</td>\n",
              "      <td>2.000000</td>\n",
              "      <td>0.000000</td>\n",
              "      <td>551.000000</td>\n",
              "      <td>580.300000</td>\n",
              "      <td>572.900000</td>\n",
              "      <td>629.800000</td>\n",
              "      <td>720.000000</td>\n",
              "    </tr>\n",
              "    <tr>\n",
              "      <th>max</th>\n",
              "      <td>91.000000</td>\n",
              "      <td>5.000000</td>\n",
              "      <td>4.000000</td>\n",
              "      <td>4.000000</td>\n",
              "      <td>13.000000</td>\n",
              "      <td>3.000000</td>\n",
              "      <td>1.000000</td>\n",
              "      <td>842.800000</td>\n",
              "      <td>835.100000</td>\n",
              "      <td>770.500000</td>\n",
              "      <td>985.500000</td>\n",
              "      <td>1000.000000</td>\n",
              "    </tr>\n",
              "  </tbody>\n",
              "</table>\n",
              "</div>"
            ],
            "text/plain": [
              "               idade           raca  ...     NU_NOTA_MT  NU_NOTA_REDACAO\n",
              "count  538896.000000  538896.000000  ...  393872.000000    414346.000000\n",
              "mean       22.024361       2.071778  ...     546.796208       596.990486\n",
              "std         7.458167       1.006767  ...     115.072018       193.028261\n",
              "min         4.000000       0.000000  ...       0.000000         0.000000\n",
              "25%        18.000000       1.000000  ...     451.800000       500.000000\n",
              "50%        19.000000       2.000000  ...     531.400000       600.000000\n",
              "75%        23.000000       3.000000  ...     629.800000       720.000000\n",
              "max        91.000000       5.000000  ...     985.500000      1000.000000\n",
              "\n",
              "[8 rows x 12 columns]"
            ]
          },
          "metadata": {
            "tags": []
          },
          "execution_count": 557
        }
      ]
    },
    {
      "cell_type": "code",
      "metadata": {
        "colab": {
          "base_uri": "https://localhost:8080/"
        },
        "id": "MJl8vdzl_vrz",
        "outputId": "5f73e007-0968-4c6f-e6e8-4c4dff57f7f0"
      },
      "source": [
        "sort = (dados.groupby('municipioResidencia').size())\n",
        "sort.sort_values(ascending=False)"
      ],
      "execution_count": null,
      "outputs": [
        {
          "output_type": "execute_result",
          "data": {
            "text/plain": [
              "municipioResidencia\n",
              "Belo Horizonte      79384\n",
              "Uberlândia          21368\n",
              "Contagem            18156\n",
              "Montes Claros       17165\n",
              "Juiz de Fora        15870\n",
              "                    ...  \n",
              "Albertina              29\n",
              "Consolação             28\n",
              "Doresópolis            28\n",
              "Serra da Saudade       17\n",
              "Água Comprida          13\n",
              "Length: 853, dtype: int64"
            ]
          },
          "metadata": {
            "tags": []
          },
          "execution_count": 558
        }
      ]
    },
    {
      "cell_type": "code",
      "metadata": {
        "colab": {
          "base_uri": "https://localhost:8080/"
        },
        "id": "0NSiFECuGLtn",
        "outputId": "5f7aff4f-b585-4556-84a3-e06c415c5aad"
      },
      "source": [
        "sort = (dados.groupby('idade').size())\n",
        "sort.sort_values(ascending=False)"
      ],
      "execution_count": null,
      "outputs": [
        {
          "output_type": "execute_result",
          "data": {
            "text/plain": [
              "idade\n",
              "18    95708\n",
              "17    83179\n",
              "19    64375\n",
              "20    45026\n",
              "16    33367\n",
              "      ...  \n",
              "91        1\n",
              "83        1\n",
              "78        1\n",
              "82        1\n",
              "4         1\n",
              "Length: 76, dtype: int64"
            ]
          },
          "metadata": {
            "tags": []
          },
          "execution_count": 559
        }
      ]
    },
    {
      "cell_type": "code",
      "metadata": {
        "colab": {
          "base_uri": "https://localhost:8080/",
          "height": 422
        },
        "id": "-dXXtddSfDw6",
        "outputId": "bc32dec2-8079-4325-e547-98bac17584fb"
      },
      "source": [
        "provas = ['NU_NOTA_CN','NU_NOTA_CH','NU_NOTA_MT','NU_NOTA_LC','NU_NOTA_REDACAO']\n",
        "dados['NU_NOTA_TOTAL'] = dados[provas].sum(axis=1)/5\n",
        "dados = dados.query('NU_NOTA_TOTAL > 0')\n",
        "dados = dados.query('treineiro != 1')\n",
        "dados = dados.query('treineiro != 1')\n",
        "dados = dados.query('tipoEscola > 1')\n",
        "dados = dados.dropna()\n",
        "dados = dados.drop(axis=1, columns='treineiro')\n",
        "dados"
      ],
      "execution_count": null,
      "outputs": [
        {
          "output_type": "execute_result",
          "data": {
            "text/html": [
              "<div>\n",
              "<style scoped>\n",
              "    .dataframe tbody tr th:only-of-type {\n",
              "        vertical-align: middle;\n",
              "    }\n",
              "\n",
              "    .dataframe tbody tr th {\n",
              "        vertical-align: top;\n",
              "    }\n",
              "\n",
              "    .dataframe thead th {\n",
              "        text-align: right;\n",
              "    }\n",
              "</style>\n",
              "<table border=\"1\" class=\"dataframe\">\n",
              "  <thead>\n",
              "    <tr style=\"text-align: right;\">\n",
              "      <th></th>\n",
              "      <th>municipioResidencia</th>\n",
              "      <th>idade</th>\n",
              "      <th>sexo</th>\n",
              "      <th>raca</th>\n",
              "      <th>estadoCivil</th>\n",
              "      <th>nacionalidade</th>\n",
              "      <th>municipioNascimento</th>\n",
              "      <th>anoConclusao</th>\n",
              "      <th>tipoEscola</th>\n",
              "      <th>NU_NOTA_CN</th>\n",
              "      <th>NU_NOTA_CH</th>\n",
              "      <th>NU_NOTA_LC</th>\n",
              "      <th>NU_NOTA_MT</th>\n",
              "      <th>NU_NOTA_REDACAO</th>\n",
              "      <th>Q001</th>\n",
              "      <th>Q002</th>\n",
              "      <th>Q006</th>\n",
              "      <th>Q024</th>\n",
              "      <th>Q025</th>\n",
              "      <th>NU_NOTA_TOTAL</th>\n",
              "    </tr>\n",
              "  </thead>\n",
              "  <tbody>\n",
              "    <tr>\n",
              "      <th>14</th>\n",
              "      <td>Araguari</td>\n",
              "      <td>17</td>\n",
              "      <td>M</td>\n",
              "      <td>3</td>\n",
              "      <td>1</td>\n",
              "      <td>1</td>\n",
              "      <td>Barbalha</td>\n",
              "      <td>0</td>\n",
              "      <td>2</td>\n",
              "      <td>460.3</td>\n",
              "      <td>550.4</td>\n",
              "      <td>484.1</td>\n",
              "      <td>533.0</td>\n",
              "      <td>660.0</td>\n",
              "      <td>H</td>\n",
              "      <td>E</td>\n",
              "      <td>B</td>\n",
              "      <td>A</td>\n",
              "      <td>B</td>\n",
              "      <td>537.56</td>\n",
              "    </tr>\n",
              "    <tr>\n",
              "      <th>23</th>\n",
              "      <td>Ninheira</td>\n",
              "      <td>18</td>\n",
              "      <td>F</td>\n",
              "      <td>1</td>\n",
              "      <td>1</td>\n",
              "      <td>1</td>\n",
              "      <td>Pedra Azul</td>\n",
              "      <td>0</td>\n",
              "      <td>2</td>\n",
              "      <td>423.3</td>\n",
              "      <td>358.0</td>\n",
              "      <td>472.4</td>\n",
              "      <td>439.0</td>\n",
              "      <td>600.0</td>\n",
              "      <td>C</td>\n",
              "      <td>B</td>\n",
              "      <td>B</td>\n",
              "      <td>A</td>\n",
              "      <td>A</td>\n",
              "      <td>458.54</td>\n",
              "    </tr>\n",
              "    <tr>\n",
              "      <th>24</th>\n",
              "      <td>Cachoeira de Pajeú</td>\n",
              "      <td>18</td>\n",
              "      <td>F</td>\n",
              "      <td>3</td>\n",
              "      <td>1</td>\n",
              "      <td>1</td>\n",
              "      <td>Pedra Azul</td>\n",
              "      <td>0</td>\n",
              "      <td>2</td>\n",
              "      <td>426.2</td>\n",
              "      <td>508.4</td>\n",
              "      <td>514.1</td>\n",
              "      <td>445.4</td>\n",
              "      <td>620.0</td>\n",
              "      <td>C</td>\n",
              "      <td>E</td>\n",
              "      <td>D</td>\n",
              "      <td>A</td>\n",
              "      <td>B</td>\n",
              "      <td>502.82</td>\n",
              "    </tr>\n",
              "    <tr>\n",
              "      <th>26</th>\n",
              "      <td>Belo Horizonte</td>\n",
              "      <td>17</td>\n",
              "      <td>F</td>\n",
              "      <td>1</td>\n",
              "      <td>1</td>\n",
              "      <td>1</td>\n",
              "      <td>Belo Horizonte</td>\n",
              "      <td>0</td>\n",
              "      <td>2</td>\n",
              "      <td>536.1</td>\n",
              "      <td>545.5</td>\n",
              "      <td>561.9</td>\n",
              "      <td>629.5</td>\n",
              "      <td>800.0</td>\n",
              "      <td>F</td>\n",
              "      <td>F</td>\n",
              "      <td>J</td>\n",
              "      <td>C</td>\n",
              "      <td>B</td>\n",
              "      <td>614.60</td>\n",
              "    </tr>\n",
              "    <tr>\n",
              "      <th>33</th>\n",
              "      <td>Mantena</td>\n",
              "      <td>17</td>\n",
              "      <td>M</td>\n",
              "      <td>2</td>\n",
              "      <td>1</td>\n",
              "      <td>1</td>\n",
              "      <td>Mantena</td>\n",
              "      <td>0</td>\n",
              "      <td>2</td>\n",
              "      <td>580.8</td>\n",
              "      <td>376.8</td>\n",
              "      <td>545.3</td>\n",
              "      <td>520.5</td>\n",
              "      <td>640.0</td>\n",
              "      <td>E</td>\n",
              "      <td>E</td>\n",
              "      <td>C</td>\n",
              "      <td>B</td>\n",
              "      <td>B</td>\n",
              "      <td>532.68</td>\n",
              "    </tr>\n",
              "    <tr>\n",
              "      <th>...</th>\n",
              "      <td>...</td>\n",
              "      <td>...</td>\n",
              "      <td>...</td>\n",
              "      <td>...</td>\n",
              "      <td>...</td>\n",
              "      <td>...</td>\n",
              "      <td>...</td>\n",
              "      <td>...</td>\n",
              "      <td>...</td>\n",
              "      <td>...</td>\n",
              "      <td>...</td>\n",
              "      <td>...</td>\n",
              "      <td>...</td>\n",
              "      <td>...</td>\n",
              "      <td>...</td>\n",
              "      <td>...</td>\n",
              "      <td>...</td>\n",
              "      <td>...</td>\n",
              "      <td>...</td>\n",
              "      <td>...</td>\n",
              "    </tr>\n",
              "    <tr>\n",
              "      <th>538885</th>\n",
              "      <td>Uberlândia</td>\n",
              "      <td>18</td>\n",
              "      <td>F</td>\n",
              "      <td>3</td>\n",
              "      <td>1</td>\n",
              "      <td>1</td>\n",
              "      <td>Uberlândia</td>\n",
              "      <td>0</td>\n",
              "      <td>2</td>\n",
              "      <td>491.6</td>\n",
              "      <td>549.3</td>\n",
              "      <td>586.8</td>\n",
              "      <td>633.5</td>\n",
              "      <td>640.0</td>\n",
              "      <td>E</td>\n",
              "      <td>G</td>\n",
              "      <td>K</td>\n",
              "      <td>B</td>\n",
              "      <td>B</td>\n",
              "      <td>580.24</td>\n",
              "    </tr>\n",
              "    <tr>\n",
              "      <th>538886</th>\n",
              "      <td>São João do Paraíso</td>\n",
              "      <td>17</td>\n",
              "      <td>F</td>\n",
              "      <td>3</td>\n",
              "      <td>1</td>\n",
              "      <td>1</td>\n",
              "      <td>São João do Paraíso</td>\n",
              "      <td>0</td>\n",
              "      <td>2</td>\n",
              "      <td>425.7</td>\n",
              "      <td>525.0</td>\n",
              "      <td>511.5</td>\n",
              "      <td>621.8</td>\n",
              "      <td>620.0</td>\n",
              "      <td>E</td>\n",
              "      <td>G</td>\n",
              "      <td>K</td>\n",
              "      <td>B</td>\n",
              "      <td>B</td>\n",
              "      <td>540.80</td>\n",
              "    </tr>\n",
              "    <tr>\n",
              "      <th>538889</th>\n",
              "      <td>Iturama</td>\n",
              "      <td>17</td>\n",
              "      <td>F</td>\n",
              "      <td>2</td>\n",
              "      <td>1</td>\n",
              "      <td>1</td>\n",
              "      <td>Iturama</td>\n",
              "      <td>0</td>\n",
              "      <td>2</td>\n",
              "      <td>456.6</td>\n",
              "      <td>419.2</td>\n",
              "      <td>447.2</td>\n",
              "      <td>446.5</td>\n",
              "      <td>560.0</td>\n",
              "      <td>A</td>\n",
              "      <td>H</td>\n",
              "      <td>B</td>\n",
              "      <td>A</td>\n",
              "      <td>A</td>\n",
              "      <td>465.90</td>\n",
              "    </tr>\n",
              "    <tr>\n",
              "      <th>538890</th>\n",
              "      <td>Ibirité</td>\n",
              "      <td>18</td>\n",
              "      <td>F</td>\n",
              "      <td>3</td>\n",
              "      <td>1</td>\n",
              "      <td>1</td>\n",
              "      <td>Ibirité</td>\n",
              "      <td>0</td>\n",
              "      <td>2</td>\n",
              "      <td>363.4</td>\n",
              "      <td>527.8</td>\n",
              "      <td>547.0</td>\n",
              "      <td>516.9</td>\n",
              "      <td>740.0</td>\n",
              "      <td>G</td>\n",
              "      <td>E</td>\n",
              "      <td>G</td>\n",
              "      <td>B</td>\n",
              "      <td>B</td>\n",
              "      <td>539.02</td>\n",
              "    </tr>\n",
              "    <tr>\n",
              "      <th>538893</th>\n",
              "      <td>Capinópolis</td>\n",
              "      <td>18</td>\n",
              "      <td>F</td>\n",
              "      <td>2</td>\n",
              "      <td>1</td>\n",
              "      <td>1</td>\n",
              "      <td>Ituiutaba</td>\n",
              "      <td>0</td>\n",
              "      <td>2</td>\n",
              "      <td>473.7</td>\n",
              "      <td>380.7</td>\n",
              "      <td>499.6</td>\n",
              "      <td>369.3</td>\n",
              "      <td>560.0</td>\n",
              "      <td>F</td>\n",
              "      <td>E</td>\n",
              "      <td>I</td>\n",
              "      <td>B</td>\n",
              "      <td>B</td>\n",
              "      <td>456.66</td>\n",
              "    </tr>\n",
              "  </tbody>\n",
              "</table>\n",
              "<p>116123 rows × 20 columns</p>\n",
              "</div>"
            ],
            "text/plain": [
              "        municipioResidencia  idade sexo  raca  ...  Q006  Q024 Q025  NU_NOTA_TOTAL\n",
              "14                 Araguari     17    M     3  ...     B     A   B          537.56\n",
              "23                 Ninheira     18    F     1  ...     B     A   A          458.54\n",
              "24       Cachoeira de Pajeú     18    F     3  ...     D     A   B          502.82\n",
              "26           Belo Horizonte     17    F     1  ...     J     C   B          614.60\n",
              "33                  Mantena     17    M     2  ...     C     B   B          532.68\n",
              "...                     ...    ...  ...   ...  ...   ...   ...  ...            ...\n",
              "538885           Uberlândia     18    F     3  ...     K     B   B          580.24\n",
              "538886  São João do Paraíso     17    F     3  ...     K     B   B          540.80\n",
              "538889              Iturama     17    F     2  ...     B     A   A          465.90\n",
              "538890              Ibirité     18    F     3  ...     G     B   B          539.02\n",
              "538893          Capinópolis     18    F     2  ...     I     B   B          456.66\n",
              "\n",
              "[116123 rows x 20 columns]"
            ]
          },
          "metadata": {
            "tags": []
          },
          "execution_count": 560
        }
      ]
    },
    {
      "cell_type": "code",
      "metadata": {
        "colab": {
          "base_uri": "https://localhost:8080/"
        },
        "id": "ft5PbSsqfKk0",
        "outputId": "3d0139ce-ecc4-4daf-8aef-7d5f5f0d43e0"
      },
      "source": [
        "sort = (dados.groupby('municipioResidencia').size())\n",
        "sort.sort_values(ascending=False)"
      ],
      "execution_count": null,
      "outputs": [
        {
          "output_type": "execute_result",
          "data": {
            "text/plain": [
              "municipioResidencia\n",
              "Belo Horizonte            14746\n",
              "Uberlândia                 4191\n",
              "Contagem                   3710\n",
              "Juiz de Fora               3432\n",
              "Montes Claros              2970\n",
              "                          ...  \n",
              "Alagoa                        7\n",
              "Antônio Prado de Minas        7\n",
              "Queluzito                     4\n",
              "Água Comprida                 4\n",
              "Serra da Saudade              2\n",
              "Length: 853, dtype: int64"
            ]
          },
          "metadata": {
            "tags": []
          },
          "execution_count": 561
        }
      ]
    },
    {
      "cell_type": "code",
      "metadata": {
        "colab": {
          "base_uri": "https://localhost:8080/",
          "height": 386
        },
        "id": "Moo0E0FXg0Hq",
        "outputId": "33b3e86c-c95b-4174-fc55-1a991423b38b"
      },
      "source": [
        "sns.displot(dados, x=\"NU_NOTA_TOTAL\")"
      ],
      "execution_count": null,
      "outputs": [
        {
          "output_type": "execute_result",
          "data": {
            "text/plain": [
              "<seaborn.axisgrid.FacetGrid at 0x7f439aafac50>"
            ]
          },
          "metadata": {
            "tags": []
          },
          "execution_count": 562
        },
        {
          "output_type": "display_data",
          "data": {
            "image/png": "[encoded data removed]",
            "text/plain": [
              "<Figure size 360x360 with 1 Axes>"
            ]
          },
          "metadata": {
            "tags": [],
            "needs_background": "light"
          }
        }
      ]
    },
    {
      "cell_type": "code",
      "metadata": {
        "id": "Eqs666Kkd1R2",
        "colab": {
          "base_uri": "https://localhost:8080/",
          "height": 327
        },
        "outputId": "6be51b08-6d96-46b0-b2cd-cda2b65293e8"
      },
      "source": [
        "#ordenando os registros pelo Q006 (criterio de renda) e mostrando como boxplot\n",
        "rendaOrdenada = dados['Q006'].unique()\n",
        "rendaOrdenada.sort()\n",
        "plt.figure(figsize=(18,8))\n",
        "sns.boxplot(x='Q006', y='NU_NOTA_TOTAL', data= dados, order= rendaOrdenada)\n",
        "plt.xlabel('Renda')\n",
        "plt.ylabel('Nota Total')"
      ],
      "execution_count": null,
      "outputs": [
        {
          "output_type": "execute_result",
          "data": {
            "text/plain": [
              "Text(0, 0.5, 'Nota Total')"
            ]
          },
          "metadata": {
            "tags": []
          },
          "execution_count": 563
        },
        {
          "output_type": "display_data",
          "data": {
            "image/png": "[encoded data removed]",
            "text/plain": [
              "<Figure size 1296x576 with 1 Axes>"
            ]
          },
          "metadata": {
            "tags": [],
            "needs_background": "light"
          }
        }
      ]
    },
    {
      "cell_type": "code",
      "metadata": {
        "colab": {
          "base_uri": "https://localhost:8080/",
          "height": 471
        },
        "id": "Hnqe5cZ-ijBs",
        "outputId": "d92d3385-ddea-443c-c613-050fb6b5ca32"
      },
      "source": [
        "#dados de escolaridade\n",
        "plt.figure(figsize=(12,8))\n",
        "sns.histplot(dados, x = \"NU_NOTA_TOTAL\", hue=\"tipoEscola\", kde=True, stat=\"probability\")\n",
        "plt.title('Gráfico 1.1: Nota por Tipo de Escola')\n",
        "plt.xlabel('Nota Total')\n",
        "plt.ylabel('Quantidade')"
      ],
      "execution_count": null,
      "outputs": [
        {
          "output_type": "execute_result",
          "data": {
            "text/plain": [
              "Text(0, 0.5, 'Quantidade')"
            ]
          },
          "metadata": {
            "tags": []
          },
          "execution_count": 564
        },
        {
          "output_type": "display_data",
          "data": {
            "image/png": "[encoded data removed]",
            "text/plain": [
              "<Figure size 864x576 with 1 Axes>"
            ]
          },
          "metadata": {
            "tags": [],
            "needs_background": "light"
          }
        }
      ]
    },
    {
      "cell_type": "markdown",
      "metadata": {
        "id": "pBeMxPyWuPpT"
      },
      "source": [
        "# Escola Pública"
      ]
    },
    {
      "cell_type": "code",
      "metadata": {
        "colab": {
          "base_uri": "https://localhost:8080/",
          "height": 422
        },
        "id": "U9rVuIzeu7jX",
        "outputId": "98dc1b43-9866-4744-a988-20da70f2ed73"
      },
      "source": [
        "escolaPublica = dados.query('tipoEscola == 2')\n",
        "escolaPublica"
      ],
      "execution_count": null,
      "outputs": [
        {
          "output_type": "execute_result",
          "data": {
            "text/html": [
              "<div>\n",
              "<style scoped>\n",
              "    .dataframe tbody tr th:only-of-type {\n",
              "        vertical-align: middle;\n",
              "    }\n",
              "\n",
              "    .dataframe tbody tr th {\n",
              "        vertical-align: top;\n",
              "    }\n",
              "\n",
              "    .dataframe thead th {\n",
              "        text-align: right;\n",
              "    }\n",
              "</style>\n",
              "<table border=\"1\" class=\"dataframe\">\n",
              "  <thead>\n",
              "    <tr style=\"text-align: right;\">\n",
              "      <th></th>\n",
              "      <th>municipioResidencia</th>\n",
              "      <th>idade</th>\n",
              "      <th>sexo</th>\n",
              "      <th>raca</th>\n",
              "      <th>estadoCivil</th>\n",
              "      <th>nacionalidade</th>\n",
              "      <th>municipioNascimento</th>\n",
              "      <th>anoConclusao</th>\n",
              "      <th>tipoEscola</th>\n",
              "      <th>NU_NOTA_CN</th>\n",
              "      <th>NU_NOTA_CH</th>\n",
              "      <th>NU_NOTA_LC</th>\n",
              "      <th>NU_NOTA_MT</th>\n",
              "      <th>NU_NOTA_REDACAO</th>\n",
              "      <th>Q001</th>\n",
              "      <th>Q002</th>\n",
              "      <th>Q006</th>\n",
              "      <th>Q024</th>\n",
              "      <th>Q025</th>\n",
              "      <th>NU_NOTA_TOTAL</th>\n",
              "    </tr>\n",
              "  </thead>\n",
              "  <tbody>\n",
              "    <tr>\n",
              "      <th>14</th>\n",
              "      <td>Araguari</td>\n",
              "      <td>17</td>\n",
              "      <td>M</td>\n",
              "      <td>3</td>\n",
              "      <td>1</td>\n",
              "      <td>1</td>\n",
              "      <td>Barbalha</td>\n",
              "      <td>0</td>\n",
              "      <td>2</td>\n",
              "      <td>460.3</td>\n",
              "      <td>550.4</td>\n",
              "      <td>484.1</td>\n",
              "      <td>533.0</td>\n",
              "      <td>660.0</td>\n",
              "      <td>H</td>\n",
              "      <td>E</td>\n",
              "      <td>B</td>\n",
              "      <td>A</td>\n",
              "      <td>B</td>\n",
              "      <td>537.56</td>\n",
              "    </tr>\n",
              "    <tr>\n",
              "      <th>23</th>\n",
              "      <td>Ninheira</td>\n",
              "      <td>18</td>\n",
              "      <td>F</td>\n",
              "      <td>1</td>\n",
              "      <td>1</td>\n",
              "      <td>1</td>\n",
              "      <td>Pedra Azul</td>\n",
              "      <td>0</td>\n",
              "      <td>2</td>\n",
              "      <td>423.3</td>\n",
              "      <td>358.0</td>\n",
              "      <td>472.4</td>\n",
              "      <td>439.0</td>\n",
              "      <td>600.0</td>\n",
              "      <td>C</td>\n",
              "      <td>B</td>\n",
              "      <td>B</td>\n",
              "      <td>A</td>\n",
              "      <td>A</td>\n",
              "      <td>458.54</td>\n",
              "    </tr>\n",
              "    <tr>\n",
              "      <th>24</th>\n",
              "      <td>Cachoeira de Pajeú</td>\n",
              "      <td>18</td>\n",
              "      <td>F</td>\n",
              "      <td>3</td>\n",
              "      <td>1</td>\n",
              "      <td>1</td>\n",
              "      <td>Pedra Azul</td>\n",
              "      <td>0</td>\n",
              "      <td>2</td>\n",
              "      <td>426.2</td>\n",
              "      <td>508.4</td>\n",
              "      <td>514.1</td>\n",
              "      <td>445.4</td>\n",
              "      <td>620.0</td>\n",
              "      <td>C</td>\n",
              "      <td>E</td>\n",
              "      <td>D</td>\n",
              "      <td>A</td>\n",
              "      <td>B</td>\n",
              "      <td>502.82</td>\n",
              "    </tr>\n",
              "    <tr>\n",
              "      <th>26</th>\n",
              "      <td>Belo Horizonte</td>\n",
              "      <td>17</td>\n",
              "      <td>F</td>\n",
              "      <td>1</td>\n",
              "      <td>1</td>\n",
              "      <td>1</td>\n",
              "      <td>Belo Horizonte</td>\n",
              "      <td>0</td>\n",
              "      <td>2</td>\n",
              "      <td>536.1</td>\n",
              "      <td>545.5</td>\n",
              "      <td>561.9</td>\n",
              "      <td>629.5</td>\n",
              "      <td>800.0</td>\n",
              "      <td>F</td>\n",
              "      <td>F</td>\n",
              "      <td>J</td>\n",
              "      <td>C</td>\n",
              "      <td>B</td>\n",
              "      <td>614.60</td>\n",
              "    </tr>\n",
              "    <tr>\n",
              "      <th>33</th>\n",
              "      <td>Mantena</td>\n",
              "      <td>17</td>\n",
              "      <td>M</td>\n",
              "      <td>2</td>\n",
              "      <td>1</td>\n",
              "      <td>1</td>\n",
              "      <td>Mantena</td>\n",
              "      <td>0</td>\n",
              "      <td>2</td>\n",
              "      <td>580.8</td>\n",
              "      <td>376.8</td>\n",
              "      <td>545.3</td>\n",
              "      <td>520.5</td>\n",
              "      <td>640.0</td>\n",
              "      <td>E</td>\n",
              "      <td>E</td>\n",
              "      <td>C</td>\n",
              "      <td>B</td>\n",
              "      <td>B</td>\n",
              "      <td>532.68</td>\n",
              "    </tr>\n",
              "    <tr>\n",
              "      <th>...</th>\n",
              "      <td>...</td>\n",
              "      <td>...</td>\n",
              "      <td>...</td>\n",
              "      <td>...</td>\n",
              "      <td>...</td>\n",
              "      <td>...</td>\n",
              "      <td>...</td>\n",
              "      <td>...</td>\n",
              "      <td>...</td>\n",
              "      <td>...</td>\n",
              "      <td>...</td>\n",
              "      <td>...</td>\n",
              "      <td>...</td>\n",
              "      <td>...</td>\n",
              "      <td>...</td>\n",
              "      <td>...</td>\n",
              "      <td>...</td>\n",
              "      <td>...</td>\n",
              "      <td>...</td>\n",
              "      <td>...</td>\n",
              "    </tr>\n",
              "    <tr>\n",
              "      <th>538885</th>\n",
              "      <td>Uberlândia</td>\n",
              "      <td>18</td>\n",
              "      <td>F</td>\n",
              "      <td>3</td>\n",
              "      <td>1</td>\n",
              "      <td>1</td>\n",
              "      <td>Uberlândia</td>\n",
              "      <td>0</td>\n",
              "      <td>2</td>\n",
              "      <td>491.6</td>\n",
              "      <td>549.3</td>\n",
              "      <td>586.8</td>\n",
              "      <td>633.5</td>\n",
              "      <td>640.0</td>\n",
              "      <td>E</td>\n",
              "      <td>G</td>\n",
              "      <td>K</td>\n",
              "      <td>B</td>\n",
              "      <td>B</td>\n",
              "      <td>580.24</td>\n",
              "    </tr>\n",
              "    <tr>\n",
              "      <th>538886</th>\n",
              "      <td>São João do Paraíso</td>\n",
              "      <td>17</td>\n",
              "      <td>F</td>\n",
              "      <td>3</td>\n",
              "      <td>1</td>\n",
              "      <td>1</td>\n",
              "      <td>São João do Paraíso</td>\n",
              "      <td>0</td>\n",
              "      <td>2</td>\n",
              "      <td>425.7</td>\n",
              "      <td>525.0</td>\n",
              "      <td>511.5</td>\n",
              "      <td>621.8</td>\n",
              "      <td>620.0</td>\n",
              "      <td>E</td>\n",
              "      <td>G</td>\n",
              "      <td>K</td>\n",
              "      <td>B</td>\n",
              "      <td>B</td>\n",
              "      <td>540.80</td>\n",
              "    </tr>\n",
              "    <tr>\n",
              "      <th>538889</th>\n",
              "      <td>Iturama</td>\n",
              "      <td>17</td>\n",
              "      <td>F</td>\n",
              "      <td>2</td>\n",
              "      <td>1</td>\n",
              "      <td>1</td>\n",
              "      <td>Iturama</td>\n",
              "      <td>0</td>\n",
              "      <td>2</td>\n",
              "      <td>456.6</td>\n",
              "      <td>419.2</td>\n",
              "      <td>447.2</td>\n",
              "      <td>446.5</td>\n",
              "      <td>560.0</td>\n",
              "      <td>A</td>\n",
              "      <td>H</td>\n",
              "      <td>B</td>\n",
              "      <td>A</td>\n",
              "      <td>A</td>\n",
              "      <td>465.90</td>\n",
              "    </tr>\n",
              "    <tr>\n",
              "      <th>538890</th>\n",
              "      <td>Ibirité</td>\n",
              "      <td>18</td>\n",
              "      <td>F</td>\n",
              "      <td>3</td>\n",
              "      <td>1</td>\n",
              "      <td>1</td>\n",
              "      <td>Ibirité</td>\n",
              "      <td>0</td>\n",
              "      <td>2</td>\n",
              "      <td>363.4</td>\n",
              "      <td>527.8</td>\n",
              "      <td>547.0</td>\n",
              "      <td>516.9</td>\n",
              "      <td>740.0</td>\n",
              "      <td>G</td>\n",
              "      <td>E</td>\n",
              "      <td>G</td>\n",
              "      <td>B</td>\n",
              "      <td>B</td>\n",
              "      <td>539.02</td>\n",
              "    </tr>\n",
              "    <tr>\n",
              "      <th>538893</th>\n",
              "      <td>Capinópolis</td>\n",
              "      <td>18</td>\n",
              "      <td>F</td>\n",
              "      <td>2</td>\n",
              "      <td>1</td>\n",
              "      <td>1</td>\n",
              "      <td>Ituiutaba</td>\n",
              "      <td>0</td>\n",
              "      <td>2</td>\n",
              "      <td>473.7</td>\n",
              "      <td>380.7</td>\n",
              "      <td>499.6</td>\n",
              "      <td>369.3</td>\n",
              "      <td>560.0</td>\n",
              "      <td>F</td>\n",
              "      <td>E</td>\n",
              "      <td>I</td>\n",
              "      <td>B</td>\n",
              "      <td>B</td>\n",
              "      <td>456.66</td>\n",
              "    </tr>\n",
              "  </tbody>\n",
              "</table>\n",
              "<p>100104 rows × 20 columns</p>\n",
              "</div>"
            ],
            "text/plain": [
              "        municipioResidencia  idade sexo  raca  ...  Q006  Q024 Q025  NU_NOTA_TOTAL\n",
              "14                 Araguari     17    M     3  ...     B     A   B          537.56\n",
              "23                 Ninheira     18    F     1  ...     B     A   A          458.54\n",
              "24       Cachoeira de Pajeú     18    F     3  ...     D     A   B          502.82\n",
              "26           Belo Horizonte     17    F     1  ...     J     C   B          614.60\n",
              "33                  Mantena     17    M     2  ...     C     B   B          532.68\n",
              "...                     ...    ...  ...   ...  ...   ...   ...  ...            ...\n",
              "538885           Uberlândia     18    F     3  ...     K     B   B          580.24\n",
              "538886  São João do Paraíso     17    F     3  ...     K     B   B          540.80\n",
              "538889              Iturama     17    F     2  ...     B     A   A          465.90\n",
              "538890              Ibirité     18    F     3  ...     G     B   B          539.02\n",
              "538893          Capinópolis     18    F     2  ...     I     B   B          456.66\n",
              "\n",
              "[100104 rows x 20 columns]"
            ]
          },
          "metadata": {
            "tags": []
          },
          "execution_count": 565
        }
      ]
    },
    {
      "cell_type": "code",
      "metadata": {
        "colab": {
          "base_uri": "https://localhost:8080/",
          "height": 313
        },
        "id": "uiTyIIG8pf6w",
        "outputId": "e159432e-5039-4aff-dae4-7b716e7dfd13"
      },
      "source": [
        "sns.boxplot(x = 'NU_NOTA_TOTAL', data=escolaPublica)\n",
        "plt.title('Distruibuição em Escola Publica')"
      ],
      "execution_count": null,
      "outputs": [
        {
          "output_type": "execute_result",
          "data": {
            "text/plain": [
              "Text(0.5, 1.0, 'Distruibuição em Escola Publica')"
            ]
          },
          "metadata": {
            "tags": []
          },
          "execution_count": 566
        },
        {
          "output_type": "display_data",
          "data": {
            "image/png": "[encoded data removed]",
            "text/plain": [
              "<Figure size 432x288 with 1 Axes>"
            ]
          },
          "metadata": {
            "tags": [],
            "needs_background": "light"
          }
        }
      ]
    },
    {
      "cell_type": "code",
      "metadata": {
        "colab": {
          "base_uri": "https://localhost:8080/",
          "height": 416
        },
        "id": "vR-x8BgkqO3b",
        "outputId": "36971e6f-7aa7-4a7c-b2ca-39653ffc0d16"
      },
      "source": [
        "sns.catplot(x= 'sexo', kind=\"count\", order=['M','F'], data = escolaPublica)\n",
        "plt.xlabel('Sexo')\n",
        "plt.ylabel('Quantidade')\n",
        "plt.title('Distruibuição em Escola Publica')"
      ],
      "execution_count": null,
      "outputs": [
        {
          "output_type": "execute_result",
          "data": {
            "text/plain": [
              "Text(0.5, 1.0, 'Distruibuição em Escola Publica')"
            ]
          },
          "metadata": {
            "tags": []
          },
          "execution_count": 567
        },
        {
          "output_type": "display_data",
          "data": {
            "image/png": "[encoded data removed]",
            "text/plain": [
              "<Figure size 360x360 with 1 Axes>"
            ]
          },
          "metadata": {
            "tags": [],
            "needs_background": "light"
          }
        }
      ]
    },
    {
      "cell_type": "code",
      "metadata": {
        "colab": {
          "base_uri": "https://localhost:8080/",
          "height": 471
        },
        "id": "3_rUYVHdvbI0",
        "outputId": "ba63c71f-f935-4feb-9efb-3ff741ed6fa0"
      },
      "source": [
        "plt.figure(figsize=(12,8))\n",
        "sns.histplot(escolaPublica, x = \"NU_NOTA_TOTAL\", hue=\"sexo\", kde=True, stat=\"probability\")\n",
        "plt.xlabel('Nota Enem')\n",
        "plt.ylabel('Ocorrencia')\n",
        "plt.title('Gráfico 1.1: Nota em Escola Publica por Sexo')"
      ],
      "execution_count": null,
      "outputs": [
        {
          "output_type": "execute_result",
          "data": {
            "text/plain": [
              "Text(0.5, 1.0, 'Gráfico 1.1: Nota em Escola Publica por Sexo')"
            ]
          },
          "metadata": {
            "tags": []
          },
          "execution_count": 568
        },
        {
          "output_type": "display_data",
          "data": {
            "image/png": "[encoded data removed]",
            "text/plain": [
              "<Figure size 864x576 with 1 Axes>"
            ]
          },
          "metadata": {
            "tags": [],
            "needs_background": "light"
          }
        }
      ]
    },
    {
      "cell_type": "code",
      "metadata": {
        "colab": {
          "base_uri": "https://localhost:8080/",
          "height": 433
        },
        "id": "QwSH0iI218_I",
        "outputId": "fdee6bf7-000e-4c37-ae32-67f385f949c4"
      },
      "source": [
        "plt.figure(figsize=(12,8))\n",
        "sns.catplot(x= 'raca', kind=\"count\", data = escolaPublica)\n",
        "plt.xlabel('Raça')\n",
        "plt.ylabel('Quantidade')\n",
        "plt.title('Distruibuição em Escola Publica')"
      ],
      "execution_count": null,
      "outputs": [
        {
          "output_type": "execute_result",
          "data": {
            "text/plain": [
              "Text(0.5, 1.0, 'Distruibuição em Escola Publica')"
            ]
          },
          "metadata": {
            "tags": []
          },
          "execution_count": 569
        },
        {
          "output_type": "display_data",
          "data": {
            "text/plain": [
              "<Figure size 864x576 with 0 Axes>"
            ]
          },
          "metadata": {
            "tags": []
          }
        },
        {
          "output_type": "display_data",
          "data": {
            "image/png": "[encoded data removed]",
            "text/plain": [
              "<Figure size 360x360 with 1 Axes>"
            ]
          },
          "metadata": {
            "tags": [],
            "needs_background": "light"
          }
        }
      ]
    },
    {
      "cell_type": "code",
      "metadata": {
        "colab": {
          "base_uri": "https://localhost:8080/",
          "height": 327
        },
        "id": "F3Q8rIbVM3uK",
        "outputId": "6c801b4e-10d3-4f3d-a461-3521cd3d4d38"
      },
      "source": [
        "#ordenando os registros pelo Q006 (criterio de renda) e mostrando como boxplot\n",
        "rendaOrdenada = escolaPublica['Q006'].unique()\n",
        "rendaOrdenada.sort()\n",
        "plt.figure(figsize=(18,8))\n",
        "sns.boxplot(x='Q006', y='NU_NOTA_TOTAL', data= escolaPublica, order= rendaOrdenada)\n",
        "plt.xlabel('Renda')\n",
        "plt.ylabel('Nota Total')"
      ],
      "execution_count": null,
      "outputs": [
        {
          "output_type": "execute_result",
          "data": {
            "text/plain": [
              "Text(0, 0.5, 'Nota Total')"
            ]
          },
          "metadata": {
            "tags": []
          },
          "execution_count": 570
        },
        {
          "output_type": "display_data",
          "data": {
            "image/png": "[encoded data removed]",
            "text/plain": [
              "<Figure size 1296x576 with 1 Axes>"
            ]
          },
          "metadata": {
            "tags": [],
            "needs_background": "light"
          }
        }
      ]
    },
    {
      "cell_type": "markdown",
      "metadata": {
        "id": "rJ1FYMayuWPs"
      },
      "source": [
        "# Escola Privada"
      ]
    },
    {
      "cell_type": "code",
      "metadata": {
        "colab": {
          "base_uri": "https://localhost:8080/"
        },
        "id": "6Kq2KbG6vEAd",
        "outputId": "5d8f1f61-ad6e-418a-9177-c5d95a062472"
      },
      "source": [
        "escolaPrivada = dados.query('tipoEscola == 3')\n",
        "escolaPrivada.size"
      ],
      "execution_count": null,
      "outputs": [
        {
          "output_type": "execute_result",
          "data": {
            "text/plain": [
              "320380"
            ]
          },
          "metadata": {
            "tags": []
          },
          "execution_count": 571
        }
      ]
    },
    {
      "cell_type": "code",
      "metadata": {
        "colab": {
          "base_uri": "https://localhost:8080/",
          "height": 313
        },
        "id": "LOV27skLp_aQ",
        "outputId": "7f826dc5-b31f-4c38-89f4-3d08b888bcd8"
      },
      "source": [
        "sns.boxplot(x = 'NU_NOTA_TOTAL', data=escolaPrivada)\n",
        "plt.title('Distruibuição em Escola Privada')"
      ],
      "execution_count": null,
      "outputs": [
        {
          "output_type": "execute_result",
          "data": {
            "text/plain": [
              "Text(0.5, 1.0, 'Distruibuição em Escola Privada')"
            ]
          },
          "metadata": {
            "tags": []
          },
          "execution_count": 572
        },
        {
          "output_type": "display_data",
          "data": {
            "image/png": "[encoded data removed]",
            "text/plain": [
              "<Figure size 432x288 with 1 Axes>"
            ]
          },
          "metadata": {
            "tags": [],
            "needs_background": "light"
          }
        }
      ]
    },
    {
      "cell_type": "code",
      "metadata": {
        "colab": {
          "base_uri": "https://localhost:8080/",
          "height": 416
        },
        "id": "8uN6XqWIjMD5",
        "outputId": "152b16f4-cfc6-4e33-9f82-3e2d63d0007b"
      },
      "source": [
        "sns.catplot(x= 'sexo', kind=\"count\",order=['M','F'], data=escolaPrivada)\n",
        "plt.xlabel('Sexo')\n",
        "plt.ylabel('Quantidade')\n",
        "plt.title('Distruibuição em Escola Privada')"
      ],
      "execution_count": null,
      "outputs": [
        {
          "output_type": "execute_result",
          "data": {
            "text/plain": [
              "Text(0.5, 1.0, 'Distruibuição em Escola Privada')"
            ]
          },
          "metadata": {
            "tags": []
          },
          "execution_count": 573
        },
        {
          "output_type": "display_data",
          "data": {
            "image/png": "[encoded data removed]",
            "text/plain": [
              "<Figure size 360x360 with 1 Axes>"
            ]
          },
          "metadata": {
            "tags": [],
            "needs_background": "light"
          }
        }
      ]
    },
    {
      "cell_type": "code",
      "metadata": {
        "colab": {
          "base_uri": "https://localhost:8080/",
          "height": 471
        },
        "id": "QN4A9Fflsuli",
        "outputId": "cf846984-a0c6-47dc-ed2c-edc96075abcb"
      },
      "source": [
        "plt.figure(figsize=(12,8))\n",
        "sns.histplot(escolaPrivada, x = \"NU_NOTA_TOTAL\", hue=\"sexo\", kde=True, stat=\"probability\")\n",
        "plt.xlabel('Nota Enem')\n",
        "plt.ylabel('Ocorrencia')\n",
        "plt.title('Nota em Escola Privada por Sexo')"
      ],
      "execution_count": null,
      "outputs": [
        {
          "output_type": "execute_result",
          "data": {
            "text/plain": [
              "Text(0.5, 1.0, 'Nota em Escola Privada por Sexo')"
            ]
          },
          "metadata": {
            "tags": []
          },
          "execution_count": 574
        },
        {
          "output_type": "display_data",
          "data": {
            "image/png": "[encoded data removed]",
            "text/plain": [
              "<Figure size 864x576 with 1 Axes>"
            ]
          },
          "metadata": {
            "tags": [],
            "needs_background": "light"
          }
        }
      ]
    },
    {
      "cell_type": "code",
      "metadata": {
        "colab": {
          "base_uri": "https://localhost:8080/",
          "height": 433
        },
        "id": "a8tFRwMR2Exi",
        "outputId": "e1e01a27-1eaf-435c-86c0-322c2bca36f6"
      },
      "source": [
        "plt.figure(figsize=(12,8))\n",
        "sns.catplot(x= 'raca', kind=\"count\", data = escolaPrivada)\n",
        "plt.xlabel('Raça')\n",
        "plt.ylabel('Quantidade')\n",
        "plt.title('Distruibuição de Sexo em Escola Privada')"
      ],
      "execution_count": null,
      "outputs": [
        {
          "output_type": "execute_result",
          "data": {
            "text/plain": [
              "Text(0.5, 1.0, 'Distruibuição de Sexo em Escola Privada')"
            ]
          },
          "metadata": {
            "tags": []
          },
          "execution_count": 575
        },
        {
          "output_type": "display_data",
          "data": {
            "text/plain": [
              "<Figure size 864x576 with 0 Axes>"
            ]
          },
          "metadata": {
            "tags": []
          }
        },
        {
          "output_type": "display_data",
          "data": {
            "image/png": "[encoded data removed]",
            "text/plain": [
              "<Figure size 360x360 with 1 Axes>"
            ]
          },
          "metadata": {
            "tags": [],
            "needs_background": "light"
          }
        }
      ]
    },
    {
      "cell_type": "markdown",
      "metadata": {
        "id": "I2Iy4h44HG5m"
      },
      "source": [
        "# Nota e renda\n"
      ]
    },
    {
      "cell_type": "code",
      "metadata": {
        "id": "8pFXp4X6dcWJ",
        "colab": {
          "base_uri": "https://localhost:8080/",
          "height": 580
        },
        "outputId": "17419f3f-7242-41dd-e775-5a88d6e991d9"
      },
      "source": [
        "ado = ['Q006', 'NU_NOTA_TOTAL', 'tipoEscola']\n",
        "renda = dados[ado]\n",
        "renda = renda.groupby('Q006').mean()\n",
        "renda"
      ],
      "execution_count": null,
      "outputs": [
        {
          "output_type": "execute_result",
          "data": {
            "text/html": [
              "<div>\n",
              "<style scoped>\n",
              "    .dataframe tbody tr th:only-of-type {\n",
              "        vertical-align: middle;\n",
              "    }\n",
              "\n",
              "    .dataframe tbody tr th {\n",
              "        vertical-align: top;\n",
              "    }\n",
              "\n",
              "    .dataframe thead th {\n",
              "        text-align: right;\n",
              "    }\n",
              "</style>\n",
              "<table border=\"1\" class=\"dataframe\">\n",
              "  <thead>\n",
              "    <tr style=\"text-align: right;\">\n",
              "      <th></th>\n",
              "      <th>NU_NOTA_TOTAL</th>\n",
              "      <th>tipoEscola</th>\n",
              "    </tr>\n",
              "    <tr>\n",
              "      <th>Q006</th>\n",
              "      <th></th>\n",
              "      <th></th>\n",
              "    </tr>\n",
              "  </thead>\n",
              "  <tbody>\n",
              "    <tr>\n",
              "      <th>A</th>\n",
              "      <td>478.813299</td>\n",
              "      <td>2.029389</td>\n",
              "    </tr>\n",
              "    <tr>\n",
              "      <th>B</th>\n",
              "      <td>491.614160</td>\n",
              "      <td>2.014282</td>\n",
              "    </tr>\n",
              "    <tr>\n",
              "      <th>C</th>\n",
              "      <td>510.219886</td>\n",
              "      <td>2.029285</td>\n",
              "    </tr>\n",
              "    <tr>\n",
              "      <th>D</th>\n",
              "      <td>532.000245</td>\n",
              "      <td>2.070476</td>\n",
              "    </tr>\n",
              "    <tr>\n",
              "      <th>E</th>\n",
              "      <td>537.619273</td>\n",
              "      <td>2.077778</td>\n",
              "    </tr>\n",
              "    <tr>\n",
              "      <th>F</th>\n",
              "      <td>558.205745</td>\n",
              "      <td>2.156856</td>\n",
              "    </tr>\n",
              "    <tr>\n",
              "      <th>G</th>\n",
              "      <td>564.161774</td>\n",
              "      <td>2.160542</td>\n",
              "    </tr>\n",
              "    <tr>\n",
              "      <th>H</th>\n",
              "      <td>588.683909</td>\n",
              "      <td>2.298625</td>\n",
              "    </tr>\n",
              "    <tr>\n",
              "      <th>I</th>\n",
              "      <td>594.962482</td>\n",
              "      <td>2.306975</td>\n",
              "    </tr>\n",
              "    <tr>\n",
              "      <th>J</th>\n",
              "      <td>611.516736</td>\n",
              "      <td>2.430909</td>\n",
              "    </tr>\n",
              "    <tr>\n",
              "      <th>K</th>\n",
              "      <td>614.999136</td>\n",
              "      <td>2.419355</td>\n",
              "    </tr>\n",
              "    <tr>\n",
              "      <th>L</th>\n",
              "      <td>628.041076</td>\n",
              "      <td>2.520281</td>\n",
              "    </tr>\n",
              "    <tr>\n",
              "      <th>M</th>\n",
              "      <td>625.839217</td>\n",
              "      <td>2.529542</td>\n",
              "    </tr>\n",
              "    <tr>\n",
              "      <th>N</th>\n",
              "      <td>637.460503</td>\n",
              "      <td>2.633520</td>\n",
              "    </tr>\n",
              "    <tr>\n",
              "      <th>O</th>\n",
              "      <td>649.739202</td>\n",
              "      <td>2.724209</td>\n",
              "    </tr>\n",
              "    <tr>\n",
              "      <th>P</th>\n",
              "      <td>663.031599</td>\n",
              "      <td>2.803872</td>\n",
              "    </tr>\n",
              "    <tr>\n",
              "      <th>Q</th>\n",
              "      <td>670.875032</td>\n",
              "      <td>2.879022</td>\n",
              "    </tr>\n",
              "  </tbody>\n",
              "</table>\n",
              "</div>"
            ],
            "text/plain": [
              "      NU_NOTA_TOTAL  tipoEscola\n",
              "Q006                           \n",
              "A        478.813299    2.029389\n",
              "B        491.614160    2.014282\n",
              "C        510.219886    2.029285\n",
              "D        532.000245    2.070476\n",
              "E        537.619273    2.077778\n",
              "F        558.205745    2.156856\n",
              "G        564.161774    2.160542\n",
              "H        588.683909    2.298625\n",
              "I        594.962482    2.306975\n",
              "J        611.516736    2.430909\n",
              "K        614.999136    2.419355\n",
              "L        628.041076    2.520281\n",
              "M        625.839217    2.529542\n",
              "N        637.460503    2.633520\n",
              "O        649.739202    2.724209\n",
              "P        663.031599    2.803872\n",
              "Q        670.875032    2.879022"
            ]
          },
          "metadata": {
            "tags": []
          },
          "execution_count": 593
        }
      ]
    },
    {
      "cell_type": "code",
      "metadata": {
        "colab": {
          "base_uri": "https://localhost:8080/",
          "height": 402
        },
        "id": "Ba0GrUNfIiKU",
        "outputId": "d12931b1-c2da-4677-d158-638ade789b25"
      },
      "source": [
        "renda = dados[ado]\n",
        "renda"
      ],
      "execution_count": null,
      "outputs": [
        {
          "output_type": "execute_result",
          "data": {
            "text/html": [
              "<div>\n",
              "<style scoped>\n",
              "    .dataframe tbody tr th:only-of-type {\n",
              "        vertical-align: middle;\n",
              "    }\n",
              "\n",
              "    .dataframe tbody tr th {\n",
              "        vertical-align: top;\n",
              "    }\n",
              "\n",
              "    .dataframe thead th {\n",
              "        text-align: right;\n",
              "    }\n",
              "</style>\n",
              "<table border=\"1\" class=\"dataframe\">\n",
              "  <thead>\n",
              "    <tr style=\"text-align: right;\">\n",
              "      <th></th>\n",
              "      <th>Q006</th>\n",
              "      <th>NU_NOTA_TOTAL</th>\n",
              "      <th>tipoEscola</th>\n",
              "    </tr>\n",
              "  </thead>\n",
              "  <tbody>\n",
              "    <tr>\n",
              "      <th>14</th>\n",
              "      <td>B</td>\n",
              "      <td>537.56</td>\n",
              "      <td>2</td>\n",
              "    </tr>\n",
              "    <tr>\n",
              "      <th>23</th>\n",
              "      <td>B</td>\n",
              "      <td>458.54</td>\n",
              "      <td>2</td>\n",
              "    </tr>\n",
              "    <tr>\n",
              "      <th>24</th>\n",
              "      <td>D</td>\n",
              "      <td>502.82</td>\n",
              "      <td>2</td>\n",
              "    </tr>\n",
              "    <tr>\n",
              "      <th>26</th>\n",
              "      <td>J</td>\n",
              "      <td>614.60</td>\n",
              "      <td>2</td>\n",
              "    </tr>\n",
              "    <tr>\n",
              "      <th>33</th>\n",
              "      <td>C</td>\n",
              "      <td>532.68</td>\n",
              "      <td>2</td>\n",
              "    </tr>\n",
              "    <tr>\n",
              "      <th>...</th>\n",
              "      <td>...</td>\n",
              "      <td>...</td>\n",
              "      <td>...</td>\n",
              "    </tr>\n",
              "    <tr>\n",
              "      <th>538885</th>\n",
              "      <td>K</td>\n",
              "      <td>580.24</td>\n",
              "      <td>2</td>\n",
              "    </tr>\n",
              "    <tr>\n",
              "      <th>538886</th>\n",
              "      <td>K</td>\n",
              "      <td>540.80</td>\n",
              "      <td>2</td>\n",
              "    </tr>\n",
              "    <tr>\n",
              "      <th>538889</th>\n",
              "      <td>B</td>\n",
              "      <td>465.90</td>\n",
              "      <td>2</td>\n",
              "    </tr>\n",
              "    <tr>\n",
              "      <th>538890</th>\n",
              "      <td>G</td>\n",
              "      <td>539.02</td>\n",
              "      <td>2</td>\n",
              "    </tr>\n",
              "    <tr>\n",
              "      <th>538893</th>\n",
              "      <td>I</td>\n",
              "      <td>456.66</td>\n",
              "      <td>2</td>\n",
              "    </tr>\n",
              "  </tbody>\n",
              "</table>\n",
              "<p>116123 rows × 3 columns</p>\n",
              "</div>"
            ],
            "text/plain": [
              "       Q006  NU_NOTA_TOTAL  tipoEscola\n",
              "14        B         537.56           2\n",
              "23        B         458.54           2\n",
              "24        D         502.82           2\n",
              "26        J         614.60           2\n",
              "33        C         532.68           2\n",
              "...     ...            ...         ...\n",
              "538885    K         580.24           2\n",
              "538886    K         540.80           2\n",
              "538889    B         465.90           2\n",
              "538890    G         539.02           2\n",
              "538893    I         456.66           2\n",
              "\n",
              "[116123 rows x 3 columns]"
            ]
          },
          "metadata": {
            "tags": []
          },
          "execution_count": 594
        }
      ]
    },
    {
      "cell_type": "code",
      "metadata": {
        "id": "Av-sONs1FnZZ"
      },
      "source": [
        "renda2 = renda"
      ],
      "execution_count": null,
      "outputs": []
    },
    {
      "cell_type": "code",
      "metadata": {
        "id": "yZ7TRU6JRmJu"
      },
      "source": [
        "renda = renda.replace({ \n",
        "        'Q006': {\n",
        "            'A': 'E',\n",
        "            'B': 'E',\n",
        "            'C': 'E',\n",
        "            'D': 'E',\n",
        "            'E': 'D',\n",
        "            'F': 'D',\n",
        "            'G': 'D',\n",
        "            'H': 'C',\n",
        "            'I': 'C',\n",
        "            'J': 'C',\n",
        "            'K': 'C',\n",
        "            'L': 'C',\n",
        "            'M': 'C',\n",
        "            'N': 'B',\n",
        "            'O': 'B',\n",
        "            'P': 'B',\n",
        "            'Q': 'A'\n",
        "            }})"
      ],
      "execution_count": null,
      "outputs": []
    },
    {
      "cell_type": "code",
      "metadata": {
        "colab": {
          "base_uri": "https://localhost:8080/",
          "height": 225
        },
        "id": "f3n7rEbFZV6e",
        "outputId": "a4015ef9-bc15-47c6-8793-060b32a7d222"
      },
      "source": [
        "renda.groupby('Q006').mean()"
      ],
      "execution_count": null,
      "outputs": [
        {
          "output_type": "execute_result",
          "data": {
            "text/html": [
              "<div>\n",
              "<style scoped>\n",
              "    .dataframe tbody tr th:only-of-type {\n",
              "        vertical-align: middle;\n",
              "    }\n",
              "\n",
              "    .dataframe tbody tr th {\n",
              "        vertical-align: top;\n",
              "    }\n",
              "\n",
              "    .dataframe thead th {\n",
              "        text-align: right;\n",
              "    }\n",
              "</style>\n",
              "<table border=\"1\" class=\"dataframe\">\n",
              "  <thead>\n",
              "    <tr style=\"text-align: right;\">\n",
              "      <th></th>\n",
              "      <th>NU_NOTA_TOTAL</th>\n",
              "      <th>tipoEscola</th>\n",
              "    </tr>\n",
              "    <tr>\n",
              "      <th>Q006</th>\n",
              "      <th></th>\n",
              "      <th></th>\n",
              "    </tr>\n",
              "  </thead>\n",
              "  <tbody>\n",
              "    <tr>\n",
              "      <th>A</th>\n",
              "      <td>670.875032</td>\n",
              "      <td>2.879022</td>\n",
              "    </tr>\n",
              "    <tr>\n",
              "      <th>B</th>\n",
              "      <td>648.343105</td>\n",
              "      <td>2.708935</td>\n",
              "    </tr>\n",
              "    <tr>\n",
              "      <th>C</th>\n",
              "      <td>602.511730</td>\n",
              "      <td>2.368707</td>\n",
              "    </tr>\n",
              "    <tr>\n",
              "      <th>D</th>\n",
              "      <td>550.507648</td>\n",
              "      <td>2.121138</td>\n",
              "    </tr>\n",
              "    <tr>\n",
              "      <th>E</th>\n",
              "      <td>506.901373</td>\n",
              "      <td>2.031962</td>\n",
              "    </tr>\n",
              "  </tbody>\n",
              "</table>\n",
              "</div>"
            ],
            "text/plain": [
              "      NU_NOTA_TOTAL  tipoEscola\n",
              "Q006                           \n",
              "A        670.875032    2.879022\n",
              "B        648.343105    2.708935\n",
              "C        602.511730    2.368707\n",
              "D        550.507648    2.121138\n",
              "E        506.901373    2.031962"
            ]
          },
          "metadata": {
            "tags": []
          },
          "execution_count": 597
        }
      ]
    },
    {
      "cell_type": "code",
      "metadata": {
        "colab": {
          "base_uri": "https://localhost:8080/",
          "height": 337
        },
        "id": "mh_Tm5JOdRUZ",
        "outputId": "1d161125-3120-4b06-c670-af2819e2ec6f"
      },
      "source": [
        "rendaOrdenada = renda['Q006'].unique()\n",
        "rendaOrdenada.sort()\n",
        "plt.figure(figsize=(18,8))\n",
        "sns.boxplot(x='Q006', y='NU_NOTA_TOTAL', data= renda, order= rendaOrdenada)\n",
        "plt.xlabel('Renda')\n",
        "plt.ylabel('Nota Total')\n",
        "plt.title('Grafico 1.2: Boxplot de Nota em Relação a Renda')"
      ],
      "execution_count": null,
      "outputs": [
        {
          "output_type": "execute_result",
          "data": {
            "text/plain": [
              "Text(0.5, 1.0, 'Grafico 1.2: Boxplot de Nota em Relação a Renda')"
            ]
          },
          "metadata": {
            "tags": []
          },
          "execution_count": 598
        },
        {
          "output_type": "display_data",
          "data": {
            "image/png": "[encoded data removed]",
            "text/plain": [
              "<Figure size 1296x576 with 1 Axes>"
            ]
          },
          "metadata": {
            "tags": [],
            "needs_background": "light"
          }
        }
      ]
    },
    {
      "cell_type": "code",
      "metadata": {
        "id": "CEmEIPuuFy6n"
      },
      "source": [
        "renda2 = renda2.replace({ \n",
        "        'Q006': {\n",
        "            'A': '1',\n",
        "            'B': '2',\n",
        "            'C': '3',\n",
        "            'D': '4',\n",
        "            'E': '5',\n",
        "            'F': '6',\n",
        "            'G': '7',\n",
        "            'H': '8',\n",
        "            'I': '9',\n",
        "            'J': '10',\n",
        "            'K': '11',\n",
        "            'L': '12',\n",
        "            'M': '13',\n",
        "            'N': '14',\n",
        "            'O': '15',\n",
        "            'P': '16',\n",
        "            'Q': '17'\n",
        "            }})"
      ],
      "execution_count": null,
      "outputs": []
    },
    {
      "cell_type": "code",
      "metadata": {
        "id": "CLQlsSFFdTXU"
      },
      "source": [
        "renda2['Q006'] = pd.to_numeric(renda2['Q006'])"
      ],
      "execution_count": null,
      "outputs": []
    },
    {
      "cell_type": "code",
      "metadata": {
        "colab": {
          "base_uri": "https://localhost:8080/",
          "height": 136
        },
        "id": "LEGhTCZ1xYhH",
        "outputId": "6c86730d-e37a-407b-c708-76129c044d71"
      },
      "source": [
        "renda2.corr()"
      ],
      "execution_count": null,
      "outputs": [
        {
          "output_type": "execute_result",
          "data": {
            "text/html": [
              "<div>\n",
              "<style scoped>\n",
              "    .dataframe tbody tr th:only-of-type {\n",
              "        vertical-align: middle;\n",
              "    }\n",
              "\n",
              "    .dataframe tbody tr th {\n",
              "        vertical-align: top;\n",
              "    }\n",
              "\n",
              "    .dataframe thead th {\n",
              "        text-align: right;\n",
              "    }\n",
              "</style>\n",
              "<table border=\"1\" class=\"dataframe\">\n",
              "  <thead>\n",
              "    <tr style=\"text-align: right;\">\n",
              "      <th></th>\n",
              "      <th>Q006</th>\n",
              "      <th>NU_NOTA_TOTAL</th>\n",
              "      <th>tipoEscola</th>\n",
              "    </tr>\n",
              "  </thead>\n",
              "  <tbody>\n",
              "    <tr>\n",
              "      <th>Q006</th>\n",
              "      <td>1.000000</td>\n",
              "      <td>0.500038</td>\n",
              "      <td>0.531632</td>\n",
              "    </tr>\n",
              "    <tr>\n",
              "      <th>NU_NOTA_TOTAL</th>\n",
              "      <td>0.500038</td>\n",
              "      <td>1.000000</td>\n",
              "      <td>0.456707</td>\n",
              "    </tr>\n",
              "    <tr>\n",
              "      <th>tipoEscola</th>\n",
              "      <td>0.531632</td>\n",
              "      <td>0.456707</td>\n",
              "      <td>1.000000</td>\n",
              "    </tr>\n",
              "  </tbody>\n",
              "</table>\n",
              "</div>"
            ],
            "text/plain": [
              "                   Q006  NU_NOTA_TOTAL  tipoEscola\n",
              "Q006           1.000000       0.500038    0.531632\n",
              "NU_NOTA_TOTAL  0.500038       1.000000    0.456707\n",
              "tipoEscola     0.531632       0.456707    1.000000"
            ]
          },
          "metadata": {
            "tags": []
          },
          "execution_count": 601
        }
      ]
    },
    {
      "cell_type": "code",
      "metadata": {
        "colab": {
          "base_uri": "https://localhost:8080/"
        },
        "id": "mk8id--yNkaK",
        "outputId": "890e15c4-4c1c-4696-e2f9-6ba86ca93646"
      },
      "source": [
        "escolaPrivada.groupby('Q006').size()"
      ],
      "execution_count": null,
      "outputs": [
        {
          "output_type": "execute_result",
          "data": {
            "text/plain": [
              "Q006\n",
              "A      75\n",
              "B     307\n",
              "C     858\n",
              "D     851\n",
              "E    1036\n",
              "F     954\n",
              "G    1468\n",
              "H    1586\n",
              "I    1316\n",
              "J     948\n",
              "K     728\n",
              "L     667\n",
              "M     717\n",
              "N    1134\n",
              "O    1053\n",
              "P     955\n",
              "Q    1366\n",
              "dtype: int64"
            ]
          },
          "metadata": {
            "tags": []
          },
          "execution_count": 586
        }
      ]
    },
    {
      "cell_type": "markdown",
      "metadata": {
        "id": "VRBpfL3k84tT"
      },
      "source": [
        "# Contas, contas e contas\n",
        "\n"
      ]
    },
    {
      "cell_type": "code",
      "metadata": {
        "colab": {
          "base_uri": "https://localhost:8080/"
        },
        "id": "w83oz1-rr6nE",
        "outputId": "fed8ca0e-58c2-4930-e4f3-12f1b0056aa7"
      },
      "source": [
        "idade = escolaPrivada.groupby('idade').size()\n",
        "idade.sort_values(axis=0, ascending=False)"
      ],
      "execution_count": null,
      "outputs": [
        {
          "output_type": "execute_result",
          "data": {
            "text/plain": [
              "idade\n",
              "17    8020\n",
              "18    7002\n",
              "19     784\n",
              "16      98\n",
              "20      73\n",
              "15      18\n",
              "21      11\n",
              "22       2\n",
              "8        2\n",
              "30       2\n",
              "50       1\n",
              "23       1\n",
              "27       1\n",
              "29       1\n",
              "36       1\n",
              "38       1\n",
              "55       1\n",
              "dtype: int64"
            ]
          },
          "metadata": {
            "tags": []
          },
          "execution_count": 577
        }
      ]
    },
    {
      "cell_type": "code",
      "metadata": {
        "colab": {
          "base_uri": "https://localhost:8080/",
          "height": 304
        },
        "id": "9pQfqACw32Gw",
        "outputId": "99b896dd-4bc8-41a4-f5d2-5c852703370a"
      },
      "source": [
        "escolaPrivada.describe()"
      ],
      "execution_count": null,
      "outputs": [
        {
          "output_type": "execute_result",
          "data": {
            "text/html": [
              "<div>\n",
              "<style scoped>\n",
              "    .dataframe tbody tr th:only-of-type {\n",
              "        vertical-align: middle;\n",
              "    }\n",
              "\n",
              "    .dataframe tbody tr th {\n",
              "        vertical-align: top;\n",
              "    }\n",
              "\n",
              "    .dataframe thead th {\n",
              "        text-align: right;\n",
              "    }\n",
              "</style>\n",
              "<table border=\"1\" class=\"dataframe\">\n",
              "  <thead>\n",
              "    <tr style=\"text-align: right;\">\n",
              "      <th></th>\n",
              "      <th>idade</th>\n",
              "      <th>raca</th>\n",
              "      <th>estadoCivil</th>\n",
              "      <th>nacionalidade</th>\n",
              "      <th>anoConclusao</th>\n",
              "      <th>tipoEscola</th>\n",
              "      <th>NU_NOTA_CN</th>\n",
              "      <th>NU_NOTA_CH</th>\n",
              "      <th>NU_NOTA_LC</th>\n",
              "      <th>NU_NOTA_MT</th>\n",
              "      <th>NU_NOTA_REDACAO</th>\n",
              "      <th>NU_NOTA_TOTAL</th>\n",
              "    </tr>\n",
              "  </thead>\n",
              "  <tbody>\n",
              "    <tr>\n",
              "      <th>count</th>\n",
              "      <td>16019.000000</td>\n",
              "      <td>16019.000000</td>\n",
              "      <td>16019.000000</td>\n",
              "      <td>16019.0</td>\n",
              "      <td>16019.0</td>\n",
              "      <td>16019.0</td>\n",
              "      <td>16019.000000</td>\n",
              "      <td>16019.000000</td>\n",
              "      <td>16019.000000</td>\n",
              "      <td>16019.000000</td>\n",
              "      <td>16019.000000</td>\n",
              "      <td>16019.000000</td>\n",
              "    </tr>\n",
              "    <tr>\n",
              "      <th>mean</th>\n",
              "      <td>17.552843</td>\n",
              "      <td>1.534802</td>\n",
              "      <td>0.985767</td>\n",
              "      <td>1.0</td>\n",
              "      <td>0.0</td>\n",
              "      <td>3.0</td>\n",
              "      <td>566.862132</td>\n",
              "      <td>594.954854</td>\n",
              "      <td>581.750415</td>\n",
              "      <td>667.401941</td>\n",
              "      <td>793.889756</td>\n",
              "      <td>640.971820</td>\n",
              "    </tr>\n",
              "    <tr>\n",
              "      <th>std</th>\n",
              "      <td>0.806161</td>\n",
              "      <td>0.929375</td>\n",
              "      <td>0.221059</td>\n",
              "      <td>0.0</td>\n",
              "      <td>0.0</td>\n",
              "      <td>0.0</td>\n",
              "      <td>69.991145</td>\n",
              "      <td>69.887200</td>\n",
              "      <td>49.081036</td>\n",
              "      <td>111.993437</td>\n",
              "      <td>143.140561</td>\n",
              "      <td>74.402944</td>\n",
              "    </tr>\n",
              "    <tr>\n",
              "      <th>min</th>\n",
              "      <td>8.000000</td>\n",
              "      <td>0.000000</td>\n",
              "      <td>0.000000</td>\n",
              "      <td>1.0</td>\n",
              "      <td>0.0</td>\n",
              "      <td>3.0</td>\n",
              "      <td>0.000000</td>\n",
              "      <td>0.000000</td>\n",
              "      <td>329.100000</td>\n",
              "      <td>0.000000</td>\n",
              "      <td>0.000000</td>\n",
              "      <td>292.200000</td>\n",
              "    </tr>\n",
              "    <tr>\n",
              "      <th>25%</th>\n",
              "      <td>17.000000</td>\n",
              "      <td>1.000000</td>\n",
              "      <td>1.000000</td>\n",
              "      <td>1.0</td>\n",
              "      <td>0.0</td>\n",
              "      <td>3.0</td>\n",
              "      <td>532.800000</td>\n",
              "      <td>560.500000</td>\n",
              "      <td>556.900000</td>\n",
              "      <td>600.750000</td>\n",
              "      <td>700.000000</td>\n",
              "      <td>597.750000</td>\n",
              "    </tr>\n",
              "    <tr>\n",
              "      <th>50%</th>\n",
              "      <td>17.000000</td>\n",
              "      <td>1.000000</td>\n",
              "      <td>1.000000</td>\n",
              "      <td>1.0</td>\n",
              "      <td>0.0</td>\n",
              "      <td>3.0</td>\n",
              "      <td>576.800000</td>\n",
              "      <td>604.000000</td>\n",
              "      <td>588.200000</td>\n",
              "      <td>679.600000</td>\n",
              "      <td>820.000000</td>\n",
              "      <td>652.740000</td>\n",
              "    </tr>\n",
              "    <tr>\n",
              "      <th>75%</th>\n",
              "      <td>18.000000</td>\n",
              "      <td>3.000000</td>\n",
              "      <td>1.000000</td>\n",
              "      <td>1.0</td>\n",
              "      <td>0.0</td>\n",
              "      <td>3.0</td>\n",
              "      <td>611.600000</td>\n",
              "      <td>641.800000</td>\n",
              "      <td>613.600000</td>\n",
              "      <td>744.600000</td>\n",
              "      <td>900.000000</td>\n",
              "      <td>693.950000</td>\n",
              "    </tr>\n",
              "    <tr>\n",
              "      <th>max</th>\n",
              "      <td>55.000000</td>\n",
              "      <td>5.000000</td>\n",
              "      <td>4.000000</td>\n",
              "      <td>1.0</td>\n",
              "      <td>0.0</td>\n",
              "      <td>3.0</td>\n",
              "      <td>821.100000</td>\n",
              "      <td>790.600000</td>\n",
              "      <td>749.300000</td>\n",
              "      <td>985.500000</td>\n",
              "      <td>1000.000000</td>\n",
              "      <td>850.820000</td>\n",
              "    </tr>\n",
              "  </tbody>\n",
              "</table>\n",
              "</div>"
            ],
            "text/plain": [
              "              idade          raca  ...  NU_NOTA_REDACAO  NU_NOTA_TOTAL\n",
              "count  16019.000000  16019.000000  ...     16019.000000   16019.000000\n",
              "mean      17.552843      1.534802  ...       793.889756     640.971820\n",
              "std        0.806161      0.929375  ...       143.140561      74.402944\n",
              "min        8.000000      0.000000  ...         0.000000     292.200000\n",
              "25%       17.000000      1.000000  ...       700.000000     597.750000\n",
              "50%       17.000000      1.000000  ...       820.000000     652.740000\n",
              "75%       18.000000      3.000000  ...       900.000000     693.950000\n",
              "max       55.000000      5.000000  ...      1000.000000     850.820000\n",
              "\n",
              "[8 rows x 12 columns]"
            ]
          },
          "metadata": {
            "tags": []
          },
          "execution_count": 578
        }
      ]
    },
    {
      "cell_type": "code",
      "metadata": {
        "colab": {
          "base_uri": "https://localhost:8080/",
          "height": 304
        },
        "id": "QlT0G1St7wOy",
        "outputId": "5d4d4c8a-f4ec-4cf4-bb71-89bd75d771da"
      },
      "source": [
        "escolaPublica.describe()"
      ],
      "execution_count": null,
      "outputs": [
        {
          "output_type": "execute_result",
          "data": {
            "text/html": [
              "<div>\n",
              "<style scoped>\n",
              "    .dataframe tbody tr th:only-of-type {\n",
              "        vertical-align: middle;\n",
              "    }\n",
              "\n",
              "    .dataframe tbody tr th {\n",
              "        vertical-align: top;\n",
              "    }\n",
              "\n",
              "    .dataframe thead th {\n",
              "        text-align: right;\n",
              "    }\n",
              "</style>\n",
              "<table border=\"1\" class=\"dataframe\">\n",
              "  <thead>\n",
              "    <tr style=\"text-align: right;\">\n",
              "      <th></th>\n",
              "      <th>idade</th>\n",
              "      <th>raca</th>\n",
              "      <th>estadoCivil</th>\n",
              "      <th>nacionalidade</th>\n",
              "      <th>anoConclusao</th>\n",
              "      <th>tipoEscola</th>\n",
              "      <th>NU_NOTA_CN</th>\n",
              "      <th>NU_NOTA_CH</th>\n",
              "      <th>NU_NOTA_LC</th>\n",
              "      <th>NU_NOTA_MT</th>\n",
              "      <th>NU_NOTA_REDACAO</th>\n",
              "      <th>NU_NOTA_TOTAL</th>\n",
              "    </tr>\n",
              "  </thead>\n",
              "  <tbody>\n",
              "    <tr>\n",
              "      <th>count</th>\n",
              "      <td>100104.000000</td>\n",
              "      <td>100104.000000</td>\n",
              "      <td>100104.000000</td>\n",
              "      <td>100104.0</td>\n",
              "      <td>100104.0</td>\n",
              "      <td>100104.0</td>\n",
              "      <td>100104.000000</td>\n",
              "      <td>100104.000000</td>\n",
              "      <td>100104.000000</td>\n",
              "      <td>100104.000000</td>\n",
              "      <td>100104.000000</td>\n",
              "      <td>100104.000000</td>\n",
              "    </tr>\n",
              "    <tr>\n",
              "      <th>mean</th>\n",
              "      <td>18.081365</td>\n",
              "      <td>2.116609</td>\n",
              "      <td>1.007762</td>\n",
              "      <td>1.0</td>\n",
              "      <td>0.0</td>\n",
              "      <td>2.0</td>\n",
              "      <td>475.151776</td>\n",
              "      <td>505.659263</td>\n",
              "      <td>520.030111</td>\n",
              "      <td>526.882096</td>\n",
              "      <td>582.945137</td>\n",
              "      <td>522.133677</td>\n",
              "    </tr>\n",
              "    <tr>\n",
              "      <th>std</th>\n",
              "      <td>3.025659</td>\n",
              "      <td>1.003246</td>\n",
              "      <td>0.250888</td>\n",
              "      <td>0.0</td>\n",
              "      <td>0.0</td>\n",
              "      <td>0.0</td>\n",
              "      <td>71.445150</td>\n",
              "      <td>76.455445</td>\n",
              "      <td>58.642700</td>\n",
              "      <td>102.905847</td>\n",
              "      <td>184.439591</td>\n",
              "      <td>80.661169</td>\n",
              "    </tr>\n",
              "    <tr>\n",
              "      <th>min</th>\n",
              "      <td>6.000000</td>\n",
              "      <td>0.000000</td>\n",
              "      <td>0.000000</td>\n",
              "      <td>1.0</td>\n",
              "      <td>0.0</td>\n",
              "      <td>2.0</td>\n",
              "      <td>0.000000</td>\n",
              "      <td>0.000000</td>\n",
              "      <td>0.000000</td>\n",
              "      <td>0.000000</td>\n",
              "      <td>0.000000</td>\n",
              "      <td>154.220000</td>\n",
              "    </tr>\n",
              "    <tr>\n",
              "      <th>25%</th>\n",
              "      <td>17.000000</td>\n",
              "      <td>1.000000</td>\n",
              "      <td>1.000000</td>\n",
              "      <td>1.0</td>\n",
              "      <td>0.0</td>\n",
              "      <td>2.0</td>\n",
              "      <td>418.900000</td>\n",
              "      <td>450.200000</td>\n",
              "      <td>487.800000</td>\n",
              "      <td>444.200000</td>\n",
              "      <td>500.000000</td>\n",
              "      <td>465.800000</td>\n",
              "    </tr>\n",
              "    <tr>\n",
              "      <th>50%</th>\n",
              "      <td>18.000000</td>\n",
              "      <td>2.000000</td>\n",
              "      <td>1.000000</td>\n",
              "      <td>1.0</td>\n",
              "      <td>0.0</td>\n",
              "      <td>2.0</td>\n",
              "      <td>469.700000</td>\n",
              "      <td>510.300000</td>\n",
              "      <td>525.800000</td>\n",
              "      <td>510.000000</td>\n",
              "      <td>580.000000</td>\n",
              "      <td>516.860000</td>\n",
              "    </tr>\n",
              "    <tr>\n",
              "      <th>75%</th>\n",
              "      <td>18.000000</td>\n",
              "      <td>3.000000</td>\n",
              "      <td>1.000000</td>\n",
              "      <td>1.0</td>\n",
              "      <td>0.0</td>\n",
              "      <td>2.0</td>\n",
              "      <td>528.900000</td>\n",
              "      <td>561.900000</td>\n",
              "      <td>560.100000</td>\n",
              "      <td>599.225000</td>\n",
              "      <td>680.000000</td>\n",
              "      <td>575.940000</td>\n",
              "    </tr>\n",
              "    <tr>\n",
              "      <th>max</th>\n",
              "      <td>83.000000</td>\n",
              "      <td>5.000000</td>\n",
              "      <td>4.000000</td>\n",
              "      <td>1.0</td>\n",
              "      <td>0.0</td>\n",
              "      <td>2.0</td>\n",
              "      <td>842.800000</td>\n",
              "      <td>790.500000</td>\n",
              "      <td>749.600000</td>\n",
              "      <td>985.000000</td>\n",
              "      <td>1000.000000</td>\n",
              "      <td>846.260000</td>\n",
              "    </tr>\n",
              "  </tbody>\n",
              "</table>\n",
              "</div>"
            ],
            "text/plain": [
              "               idade           raca  ...  NU_NOTA_REDACAO  NU_NOTA_TOTAL\n",
              "count  100104.000000  100104.000000  ...    100104.000000  100104.000000\n",
              "mean       18.081365       2.116609  ...       582.945137     522.133677\n",
              "std         3.025659       1.003246  ...       184.439591      80.661169\n",
              "min         6.000000       0.000000  ...         0.000000     154.220000\n",
              "25%        17.000000       1.000000  ...       500.000000     465.800000\n",
              "50%        18.000000       2.000000  ...       580.000000     516.860000\n",
              "75%        18.000000       3.000000  ...       680.000000     575.940000\n",
              "max        83.000000       5.000000  ...      1000.000000     846.260000\n",
              "\n",
              "[8 rows x 12 columns]"
            ]
          },
          "metadata": {
            "tags": []
          },
          "execution_count": 579
        }
      ]
    },
    {
      "cell_type": "code",
      "metadata": {
        "colab": {
          "base_uri": "https://localhost:8080/"
        },
        "id": "UwKeNIpX8Pgw",
        "outputId": "92f111d8-237c-410e-f8d5-238c5db91ffb"
      },
      "source": [
        "idade = escolaPublica.groupby('idade').size()\n",
        "idade.sort_values(axis=0, ascending=False)"
      ],
      "execution_count": null,
      "outputs": [
        {
          "output_type": "execute_result",
          "data": {
            "text/plain": [
              "idade\n",
              "18    45012\n",
              "17    42147\n",
              "19     7580\n",
              "20     1881\n",
              "21      575\n",
              "22      320\n",
              "16      320\n",
              "23      258\n",
              "24      190\n",
              "25      158\n",
              "26      129\n",
              "27      105\n",
              "28       94\n",
              "30       76\n",
              "32       65\n",
              "29       65\n",
              "35       60\n",
              "40       58\n",
              "43       57\n",
              "33       55\n",
              "34       54\n",
              "31       53\n",
              "39       53\n",
              "37       50\n",
              "41       50\n",
              "36       49\n",
              "38       49\n",
              "44       48\n",
              "45       46\n",
              "47       39\n",
              "42       37\n",
              "46       36\n",
              "49       34\n",
              "48       33\n",
              "50       30\n",
              "53       30\n",
              "55       26\n",
              "51       24\n",
              "15       23\n",
              "52       22\n",
              "54       22\n",
              "57       15\n",
              "56       14\n",
              "58       12\n",
              "59        9\n",
              "61        8\n",
              "60        5\n",
              "63        5\n",
              "67        5\n",
              "62        4\n",
              "64        4\n",
              "65        2\n",
              "66        2\n",
              "11        1\n",
              "8         1\n",
              "83        1\n",
              "12        1\n",
              "73        1\n",
              "6         1\n",
              "dtype: int64"
            ]
          },
          "metadata": {
            "tags": []
          },
          "execution_count": 580
        }
      ]
    },
    {
      "cell_type": "code",
      "metadata": {
        "colab": {
          "base_uri": "https://localhost:8080/"
        },
        "id": "u9d9zA8U8RPx",
        "outputId": "72b6deca-2749-4aee-fe52-4d9016ebc7b4"
      },
      "source": [
        "sexo = escolaPublica.groupby('sexo').size()\n",
        "sexo.sort_values(axis=0, ascending=False)"
      ],
      "execution_count": null,
      "outputs": [
        {
          "output_type": "execute_result",
          "data": {
            "text/plain": [
              "sexo\n",
              "F    60833\n",
              "M    39271\n",
              "dtype: int64"
            ]
          },
          "metadata": {
            "tags": []
          },
          "execution_count": 581
        }
      ]
    },
    {
      "cell_type": "code",
      "metadata": {
        "colab": {
          "base_uri": "https://localhost:8080/"
        },
        "id": "vxbBwIMdFYua",
        "outputId": "11091030-12d7-4dc4-83f9-6e1ec700ce36"
      },
      "source": [
        "idade = escolaPrivada.groupby('sexo').size()\n",
        "idade.sort_values(axis=0, ascending=False)"
      ],
      "execution_count": null,
      "outputs": [
        {
          "output_type": "execute_result",
          "data": {
            "text/plain": [
              "sexo\n",
              "F    8636\n",
              "M    7383\n",
              "dtype: int64"
            ]
          },
          "metadata": {
            "tags": []
          },
          "execution_count": 582
        }
      ]
    },
    {
      "cell_type": "code",
      "metadata": {
        "colab": {
          "base_uri": "https://localhost:8080/"
        },
        "id": "BzT8kE_6F2Pp",
        "outputId": "227e7b56-9e5a-4f07-f3ad-571469e3ca9e"
      },
      "source": [
        "escolaPublica.groupby('raca').size()"
      ],
      "execution_count": null,
      "outputs": [
        {
          "output_type": "execute_result",
          "data": {
            "text/plain": [
              "raca\n",
              "0     1638\n",
              "1    36569\n",
              "2    13615\n",
              "3    45548\n",
              "4     2232\n",
              "5      502\n",
              "dtype: int64"
            ]
          },
          "metadata": {
            "tags": []
          },
          "execution_count": 583
        }
      ]
    },
    {
      "cell_type": "code",
      "metadata": {
        "colab": {
          "base_uri": "https://localhost:8080/"
        },
        "id": "keYoCCk1HsNp",
        "outputId": "f5dd0e30-c158-4c49-c95a-5d635e570d36"
      },
      "source": [
        "escolaPrivada.groupby('raca').size()"
      ],
      "execution_count": null,
      "outputs": [
        {
          "output_type": "execute_result",
          "data": {
            "text/plain": [
              "raca\n",
              "0      403\n",
              "1    10908\n",
              "2      688\n",
              "3     3796\n",
              "4      206\n",
              "5       18\n",
              "dtype: int64"
            ]
          },
          "metadata": {
            "tags": []
          },
          "execution_count": 584
        }
      ]
    },
    {
      "cell_type": "code",
      "metadata": {
        "colab": {
          "base_uri": "https://localhost:8080/"
        },
        "id": "deiLICl6NfND",
        "outputId": "520f1bea-0fae-4939-93d7-1c210ea0ddba"
      },
      "source": [
        "escolaPublica.groupby('Q006').size()"
      ],
      "execution_count": null,
      "outputs": [
        {
          "output_type": "execute_result",
          "data": {
            "text/plain": [
              "Q006\n",
              "A     2477\n",
              "B    21189\n",
              "C    28440\n",
              "D    11224\n",
              "E    12284\n",
              "F     5128\n",
              "G     7676\n",
              "H     3725\n",
              "I     2971\n",
              "J     1252\n",
              "K     1008\n",
              "L      615\n",
              "M      637\n",
              "N      656\n",
              "O      401\n",
              "P      233\n",
              "Q      188\n",
              "dtype: int64"
            ]
          },
          "metadata": {
            "tags": []
          },
          "execution_count": 585
        }
      ]
    }
  ]
}